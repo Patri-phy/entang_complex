{
  "cells": [
    {
      "cell_type": "code",
      "execution_count": 1,
      "metadata": {
        "id": "VK_SE_R81q_E"
      },
      "outputs": [
        {
          "name": "stdout",
          "output_type": "stream",
          "text": [
            "[[0.74517707]\n",
            " [0.98121117]\n",
            " [0.8520977 ]\n",
            " ...\n",
            " [0.66573365]\n",
            " [0.70622149]\n",
            " [0.72140533]]\n",
            "The time of execution of above program is : 743056.5340518951 ms\n"
          ]
        }
      ],
      "source": [
        "from qutip import *\n",
        "import numpy as np\n",
        "import datetime\n",
        "import time\n",
        "\n",
        "n_qubit = 2\n",
        "dim_qubit = [[2 for i in range(n_qubit)], [1 for i in range(n_qubit)]]\n",
        "n_iterations = 1000000\n",
        "\n",
        "start = time.time()\n",
        "basename = \"two_q_partitions_pur_1M\"\n",
        "suffix = datetime.datetime.now().strftime(\"%y%m%d_%H%M%S\")\n",
        "filename = \"_\".join([basename, suffix])\n",
        "\n",
        "results = np.zeros((n_iterations,1))\n",
        "#results = np.zeros((n_iterations, n_qubit))\n",
        "\n",
        "for j in range(n_iterations):\n",
        "\tket = rand_ket_haar(dims=dim_qubit)\n",
        "\tdm = ket*ket.dag()\n",
        "\tptr = dm.ptrace(0)\n",
        "\tresults[j, 0] = (ptr**2).tr()\n",
        "\t#ptr = dm.ptrace(1)\n",
        "\t#results[j, 1] = (ptr**2).tr()\n",
        "np.savetxt(filename, results, delimiter=',')\n",
        "end = time.time()\n",
        "print(results)\n",
        "print(\"The time of execution of above program is :\", (end-start) * 10**3, \"ms\")"
      ]
    }
  ],
  "metadata": {
    "colab": {
      "provenance": []
    },
    "kernelspec": {
      "display_name": "Python 3",
      "language": "python",
      "name": "python3"
    },
    "language_info": {
      "codemirror_mode": {
        "name": "ipython",
        "version": 3
      },
      "file_extension": ".py",
      "mimetype": "text/x-python",
      "name": "python",
      "nbconvert_exporter": "python",
      "pygments_lexer": "ipython3",
      "version": "3.10.6"
    },
    "vscode": {
      "interpreter": {
        "hash": "e7370f93d1d0cde622a1f8e1c04877d8463912d04d973331ad4851f04de6915a"
      }
    }
  },
  "nbformat": 4,
  "nbformat_minor": 0
}
