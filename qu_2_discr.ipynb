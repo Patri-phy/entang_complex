{
 "cells": [
  {
   "cell_type": "code",
   "execution_count": 1,
   "metadata": {},
   "outputs": [
    {
     "name": "stdout",
     "output_type": "stream",
     "text": [
      "8\n",
      "(1, 1, 1)\n",
      "(1, 1, -1)\n",
      "(1, -1, 1)\n",
      "(1, -1, -1)\n",
      "(-1, 1, 1)\n",
      "(-1, 1, -1)\n",
      "(-1, -1, 1)\n",
      "(-1, -1, -1)\n",
      "8\n"
     ]
    }
   ],
   "source": [
    "import itertools\n",
    "import datetime\n",
    "import numpy as np\n",
    "from qutip import *  # this imports also Qobj\n",
    "n = 2; k = 1\n",
    "N = 2**n\n",
    "dims = [[2 for i in range(n)], [1 for i in range(n)]]\n",
    "plmi = [+1, -1]\n",
    "deg = N-1\n",
    "degt = 2**deg\n",
    "print(degt)\n",
    "i=0\n",
    "for item in itertools.product(plmi,repeat=deg):\n",
    "    print(item)\n",
    "    i=i+1\n",
    "print(i)\n",
    "#print([k for k in range(0, 3)]) #0,1,2"
   ]
  },
  {
   "cell_type": "code",
   "execution_count": 2,
   "metadata": {},
   "outputs": [
    {
     "name": "stdout",
     "output_type": "stream",
     "text": [
      "[[1. ]\n",
      " [0.5]\n",
      " [0.5]\n",
      " [1. ]\n",
      " [0.5]\n",
      " [1. ]\n",
      " [1. ]\n",
      " [0.5]]\n"
     ]
    }
   ],
   "source": [
    "basename = \"two_discr_part_pur_8\"\n",
    "suffix = datetime.datetime.now().strftime(\"%y%m%d_%H%M%S\")\n",
    "filename = \"_\".join([basename, suffix])\n",
    "\n",
    "res = np.zeros((degt,1))\n",
    "j = 0\n",
    "for elem in itertools.product(plmi, repeat=deg):\n",
    "    ket = (Qobj(np.array((1,)+elem), dims=dims)).unit()\n",
    "    dm = ket*ket.dag()\n",
    "    #q=0\n",
    "    #for k in range(0, n):\n",
    "    ptr = dm.ptrace(k)\n",
    "    res[j,0] = (ptr**2).tr()\n",
    "    j=j+1\n",
    "print(res)\n",
    "np.savetxt(filename, res, delimiter=',')"
   ]
  }
 ],
 "metadata": {
  "kernelspec": {
   "display_name": "Python 3 (ipykernel)",
   "language": "python",
   "name": "python3"
  },
  "language_info": {
   "codemirror_mode": {
    "name": "ipython",
    "version": 3
   },
   "file_extension": ".py",
   "mimetype": "text/x-python",
   "name": "python",
   "nbconvert_exporter": "python",
   "pygments_lexer": "ipython3",
   "version": "3.10.6"
  },
  "orig_nbformat": 4,
  "vscode": {
   "interpreter": {
    "hash": "e7370f93d1d0cde622a1f8e1c04877d8463912d04d973331ad4851f04de6915a"
   }
  }
 },
 "nbformat": 4,
 "nbformat_minor": 2
}
