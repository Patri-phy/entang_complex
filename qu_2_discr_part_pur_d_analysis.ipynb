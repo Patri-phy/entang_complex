{
 "cells": [
  {
   "cell_type": "code",
   "execution_count": 1,
   "metadata": {},
   "outputs": [],
   "source": [
    "import numpy as np\n",
    "import pandas as pd\n",
    "import os\n",
    "import matplotlib.pyplot as plt\n",
    "path = '/home/patri/Desktop/codes/0b.two_discr/data_2_q_discr/'"
   ]
  },
  {
   "cell_type": "code",
   "execution_count": 2,
   "metadata": {},
   "outputs": [
    {
     "name": "stdout",
     "output_type": "stream",
     "text": [
      "two_discr_part_pur_8_230323_093043\n"
     ]
    }
   ],
   "source": [
    "#print(os.listdir(path))\n",
    "#print(len(os.listdir(path)))\n",
    "for f in os.listdir(path):\n",
    "    print(f)"
   ]
  },
  {
   "cell_type": "code",
   "execution_count": 4,
   "metadata": {},
   "outputs": [],
   "source": [
    "df_glob = None\n",
    "for f in os.listdir(path):\n",
    "    df = pd.read_csv(path+f, header=None)\n",
    "    if df_glob is not None:\n",
    "        df_glob = pd.concat([df_glob, df])\n",
    "    else:\n",
    "        df_glob = df\n",
    "df_glob\n",
    "pd.to_pickle(df_glob, 'qu_2_discr_8.pkl')"
   ]
  },
  {
   "cell_type": "code",
   "execution_count": 5,
   "metadata": {},
   "outputs": [
    {
     "data": {
      "text/html": [
       "<div>\n",
       "<style scoped>\n",
       "    .dataframe tbody tr th:only-of-type {\n",
       "        vertical-align: middle;\n",
       "    }\n",
       "\n",
       "    .dataframe tbody tr th {\n",
       "        vertical-align: top;\n",
       "    }\n",
       "\n",
       "    .dataframe thead th {\n",
       "        text-align: right;\n",
       "    }\n",
       "</style>\n",
       "<table border=\"1\" class=\"dataframe\">\n",
       "  <thead>\n",
       "    <tr style=\"text-align: right;\">\n",
       "      <th></th>\n",
       "      <th>0</th>\n",
       "    </tr>\n",
       "  </thead>\n",
       "  <tbody>\n",
       "    <tr>\n",
       "      <th>count</th>\n",
       "      <td>8.000000</td>\n",
       "    </tr>\n",
       "    <tr>\n",
       "      <th>mean</th>\n",
       "      <td>0.750000</td>\n",
       "    </tr>\n",
       "    <tr>\n",
       "      <th>std</th>\n",
       "      <td>0.267261</td>\n",
       "    </tr>\n",
       "    <tr>\n",
       "      <th>min</th>\n",
       "      <td>0.500000</td>\n",
       "    </tr>\n",
       "    <tr>\n",
       "      <th>25%</th>\n",
       "      <td>0.500000</td>\n",
       "    </tr>\n",
       "    <tr>\n",
       "      <th>50%</th>\n",
       "      <td>0.750000</td>\n",
       "    </tr>\n",
       "    <tr>\n",
       "      <th>75%</th>\n",
       "      <td>1.000000</td>\n",
       "    </tr>\n",
       "    <tr>\n",
       "      <th>max</th>\n",
       "      <td>1.000000</td>\n",
       "    </tr>\n",
       "  </tbody>\n",
       "</table>\n",
       "</div>"
      ],
      "text/plain": [
       "              0\n",
       "count  8.000000\n",
       "mean   0.750000\n",
       "std    0.267261\n",
       "min    0.500000\n",
       "25%    0.500000\n",
       "50%    0.750000\n",
       "75%    1.000000\n",
       "max    1.000000"
      ]
     },
     "execution_count": 5,
     "metadata": {},
     "output_type": "execute_result"
    }
   ],
   "source": [
    "df_glob.describe()"
   ]
  },
  {
   "cell_type": "code",
   "execution_count": 4,
   "metadata": {},
   "outputs": [
    {
     "data": {
      "text/html": [
       "<div>\n",
       "<style scoped>\n",
       "    .dataframe tbody tr th:only-of-type {\n",
       "        vertical-align: middle;\n",
       "    }\n",
       "\n",
       "    .dataframe tbody tr th {\n",
       "        vertical-align: top;\n",
       "    }\n",
       "\n",
       "    .dataframe thead th {\n",
       "        text-align: right;\n",
       "    }\n",
       "</style>\n",
       "<table border=\"1\" class=\"dataframe\">\n",
       "  <thead>\n",
       "    <tr style=\"text-align: right;\">\n",
       "      <th></th>\n",
       "      <th>0</th>\n",
       "      <th>1</th>\n",
       "      <th>2</th>\n",
       "    </tr>\n",
       "  </thead>\n",
       "  <tbody>\n",
       "    <tr>\n",
       "      <th>count</th>\n",
       "      <td>1000000.000000</td>\n",
       "      <td>1000000.000000</td>\n",
       "      <td>1000000.000000</td>\n",
       "    </tr>\n",
       "    <tr>\n",
       "      <th>mean</th>\n",
       "      <td>0.666674</td>\n",
       "      <td>0.666705</td>\n",
       "      <td>0.666577</td>\n",
       "    </tr>\n",
       "    <tr>\n",
       "      <th>std</th>\n",
       "      <td>0.100434</td>\n",
       "      <td>0.100523</td>\n",
       "      <td>0.100424</td>\n",
       "    </tr>\n",
       "    <tr>\n",
       "      <th>min</th>\n",
       "      <td>0.500009</td>\n",
       "      <td>0.500028</td>\n",
       "      <td>0.500010</td>\n",
       "    </tr>\n",
       "    <tr>\n",
       "      <th>25%</th>\n",
       "      <td>0.585666</td>\n",
       "      <td>0.585649</td>\n",
       "      <td>0.585523</td>\n",
       "    </tr>\n",
       "    <tr>\n",
       "      <th>50%</th>\n",
       "      <td>0.653562</td>\n",
       "      <td>0.653429</td>\n",
       "      <td>0.653411</td>\n",
       "    </tr>\n",
       "    <tr>\n",
       "      <th>75%</th>\n",
       "      <td>0.735699</td>\n",
       "      <td>0.735787</td>\n",
       "      <td>0.735500</td>\n",
       "    </tr>\n",
       "    <tr>\n",
       "      <th>max</th>\n",
       "      <td>0.997542</td>\n",
       "      <td>0.998301</td>\n",
       "      <td>0.998000</td>\n",
       "    </tr>\n",
       "  </tbody>\n",
       "</table>\n",
       "</div>"
      ],
      "text/plain": [
       "                    0               1               2\n",
       "count  1000000.000000  1000000.000000  1000000.000000\n",
       "mean         0.666674        0.666705        0.666577\n",
       "std          0.100434        0.100523        0.100424\n",
       "min          0.500009        0.500028        0.500010\n",
       "25%          0.585666        0.585649        0.585523\n",
       "50%          0.653562        0.653429        0.653411\n",
       "75%          0.735699        0.735787        0.735500\n",
       "max          0.997542        0.998301        0.998000"
      ]
     },
     "execution_count": 4,
     "metadata": {},
     "output_type": "execute_result"
    }
   ],
   "source": [
    "#df_discr = pd.read_pickle('five_discr_2M.pkl')\n",
    "df_glob.describe()\n",
    "# minv=df_discr[0].min()\n",
    "# print(np.sum(df_discr[0]==minv))\n",
    "# max=df_discr[0].max()\n",
    "# print(min)\n",
    "# print(min)\n",
    "# print(max)\n",
    "# dfavg=df_cont.mean(axis=1) #averages of the rows"
   ]
  },
  {
   "cell_type": "code",
   "execution_count": 5,
   "metadata": {},
   "outputs": [],
   "source": [
    "# bins=511\n",
    "# fig, ax = plt.subplots()\n",
    "# df_discr.plot.kde(ax=ax, legend=False, color = \"red\")\n",
    "# df_discr.plot.hist(density=True, color = \"blue\", bins=bins, ax=ax, legend=False)\n",
    "# ax.set_ylabel('pme frequency')\n",
    "# ax.set_xlabel('values grouped into '+str(bins)+' bins of equal width')\n",
    "# ax.grid(axis='y')\n",
    "# ax.set_facecolor('#d8dcd6')\n",
    "# ax.set_xlim(0.25, 0.55)\n",
    "# #ax.set_ylim(-2.2, 45)\n",
    "# ax.set_xticks([0.25, 0.5, 0.75, 1])\n",
    "# ax.set_title('5-qubits distribution of the pme of 2M random states with coeff. +/-1')\n",
    "# plt.plot()"
   ]
  },
  {
   "cell_type": "code",
   "execution_count": 6,
   "metadata": {},
   "outputs": [],
   "source": [
    "# bins=500\n",
    "# fig, ax = plt.subplots()\n",
    "# #dfavg.plot.kde(ax=ax, legend=False)\n",
    "# v = np.linspace(-0.5, 0.5, 100)\n",
    "# vmin = np.ones(100)*min\n",
    "# vmax = np.ones(100)*max\n",
    "# ax.plot(vmin, v, label = 'data minimum', color = 'red')\n",
    "# ax.plot(vmax, v, label = 'data maximum', color = 'brown')\n",
    "# ax.legend()\n",
    "# df_discr.plot.hist(density=True, color = \"blue\", bins=bins, ax=ax, label = 'data', legend=False)\n",
    "# ax.set_ylabel('pme frequency')\n",
    "# ax.set_xlabel('values grouped into '+str(bins)+' bins of equal width')\n",
    "# ax.grid(axis='y')\n",
    "# ax.set_facecolor('#d8dcd6')\n",
    "# ax.set_xlim(0.2, 1.1)\n",
    "# ax.set_ylim(-2.2, 45)\n",
    "# ax.set_xticks([0.25, 0.5, 0.75,max, 1])\n",
    "\n",
    "# ax.set_title('5-qubits distribution of the pme of 2M random states with coeff. +/-1')\n",
    "# plt.plot()"
   ]
  }
 ],
 "metadata": {
  "kernelspec": {
   "display_name": "Python 3",
   "language": "python",
   "name": "python3"
  },
  "language_info": {
   "codemirror_mode": {
    "name": "ipython",
    "version": 3
   },
   "file_extension": ".py",
   "mimetype": "text/x-python",
   "name": "python",
   "nbconvert_exporter": "python",
   "pygments_lexer": "ipython3",
   "version": "3.10.6"
  },
  "orig_nbformat": 4,
  "vscode": {
   "interpreter": {
    "hash": "e7370f93d1d0cde622a1f8e1c04877d8463912d04d973331ad4851f04de6915a"
   }
  }
 },
 "nbformat": 4,
 "nbformat_minor": 2
}
